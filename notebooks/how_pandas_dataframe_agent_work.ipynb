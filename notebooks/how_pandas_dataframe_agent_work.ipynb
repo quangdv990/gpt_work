{
 "cells": [
  {
   "cell_type": "code",
   "execution_count": null,
   "metadata": {},
   "outputs": [],
   "source": [
    "from langchain_experimental.agents.agent_toolkits.pandas.base import create_pandas_dataframe_agent\n",
    "from langchain_openai import ChatOpenAI\n",
    "import pandas as pd\n",
    "import matplotlib.pyplot as plt"
   ]
  },
  {
   "cell_type": "code",
   "execution_count": null,
   "metadata": {},
   "outputs": [],
   "source": [
    "import sys\n",
    "sys.path.append(\"D:\\quanggpt\\quanggpt\\source\")\n",
    "from source.models.llms import load_llm\n",
    "\n",
    "MODEL_NAME = \"gpt-3.5-turbo\"\n",
    "llm = load_llm(model_name=MODEL_NAME)\n",
    "llm\n"
   ]
  },
  {
   "cell_type": "code",
   "execution_count": null,
   "metadata": {},
   "outputs": [],
   "source": [
    "llm.invoke(\"Hello. Who are you?\")"
   ]
  },
  {
   "cell_type": "code",
   "execution_count": null,
   "metadata": {},
   "outputs": [],
   "source": [
    "df = pd.read_csv(\"../data/raw/sample_data.csv\")\n",
    "da_agent = create_pandas_dataframe_agent(\n",
    "        llm=llm,\n",
    "        df=df,\n",
    "        agent_type=\"tool-calling\",\n",
    "        allow_dangerous_code=True,\n",
    "        verbose=True,\n",
    "        return_intermediate_steps=True,\n",
    "    )\n"
   ]
  },
  {
   "cell_type": "code",
   "execution_count": null,
   "metadata": {},
   "outputs": [],
   "source": [
    "query = \"Describe this data \"\n",
    "response = da_agent(query)"
   ]
  },
  {
   "cell_type": "code",
   "execution_count": null,
   "metadata": {},
   "outputs": [],
   "source": [
    "query = \"scatter the plot of revenue and sales\"\n",
    "response = da_agent(query)"
   ]
  }
 ],
 "metadata": {
  "kernelspec": {
   "display_name": ".venv",
   "language": "python",
   "name": "python3"
  },
  "language_info": {
   "codemirror_mode": {
    "name": "ipython",
    "version": 3
   },
   "file_extension": ".py",
   "mimetype": "text/x-python",
   "name": "python",
   "nbconvert_exporter": "python",
   "pygments_lexer": "ipython3",
   "version": "3.11.5"
  }
 },
 "nbformat": 4,
 "nbformat_minor": 2
}
